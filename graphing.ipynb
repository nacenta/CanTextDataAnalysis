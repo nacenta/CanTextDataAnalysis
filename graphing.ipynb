{
 "cells": [
  {
   "cell_type": "code",
   "execution_count": null,
   "metadata": {
    "collapsed": true
   },
   "outputs": [],
   "source": [
    "raw.data <- read.table(\"processedData/all_trials_processed_data.csv\", header = TRUE, sep = \",\")"
   ]
  },
  {
   "cell_type": "code",
   "execution_count": null,
   "metadata": {
    "collapsed": false
   },
   "outputs": [],
   "source": [
    "#str(raw.data)"
   ]
  },
  {
   "cell_type": "code",
   "execution_count": null,
   "metadata": {
    "collapsed": false
   },
   "outputs": [],
   "source": [
    "data.no.train <- subset(raw.data, country > 0, select=c(type, country, M1, M2, M3, M3t, M3m, M3o, M4, M4perSec, M4t, M4m, M4o, M5, M5t, M5m, M5o, M6, M6t, M6m, M6o, M7, M8, M9, M10, M11, M12, M12t, M12m, M12o, M13t, M13m, M13o, M14, M15, M15t, M15m, M15o, M16, M16t, M16m, M16o, M17, M18, M19, M20, M21, M22, M23, M24, M25, M26, M29, M30))\n",
    "columns.names <- paste(rep(colnames(subset(data.no.train, select=country:M30)), each=3), c(\"mean\", \"median\", \"se\"), sep=\".\")"
   ]
  },
  {
   "cell_type": "code",
   "execution_count": null,
   "metadata": {
    "collapsed": false
   },
   "outputs": [],
   "source": [
    "data.no.train.split <- split( data.no.train, f = data.no.train$type )"
   ]
  },
  {
   "cell_type": "code",
   "execution_count": null,
   "metadata": {
    "collapsed": false
   },
   "outputs": [],
   "source": [
    "#str(data_no_train_split)"
   ]
  },
  {
   "cell_type": "code",
   "execution_count": null,
   "metadata": {
    "collapsed": false
   },
   "outputs": [],
   "source": [
    "library(tidyr)\n",
    "library(dplyr)"
   ]
  },
  {
   "cell_type": "code",
   "execution_count": null,
   "metadata": {
    "collapsed": false
   },
   "outputs": [],
   "source": [
    "library(psych)\n",
    "total <- data.frame()\n",
    "for (i in data.no.train.split) {\n",
    "    type <- subset(i, select=type)\n",
    "    type <- as.character(type$type[1])\n",
    "    i <- subset(i, select=country:M30)\n",
    "    df.type <- describe(i)\n",
    "    df.type <- subset(df.type, select=c(mean, median, se))\n",
    "    df.type.row <- tibble::rownames_to_column(df.type)\n",
    "    df.type.gather <- df.type.row %>% gather(measure, value, mean:se)\n",
    "    dt.type.transpose <- t(subset(transform(df.type.gather,rowname=paste0(rowname,'.',measure)), select = c(rowname, value)))\n",
    "    rownames(dt.type.transpose) <- c('header',type)\n",
    "    \n",
    "    total <- rbind(total,dt.type.transpose)\n",
    "}\n",
    "colnames(total) <- dt.type.transpose [1, ]\n",
    "total <- total [-1, ]\n",
    "total <- total[c('c','e','n','s'),]"
   ]
  },
  {
   "cell_type": "code",
   "execution_count": null,
   "metadata": {
    "collapsed": false
   },
   "outputs": [],
   "source": [
    "total"
   ]
  },
  {
   "cell_type": "code",
   "execution_count": null,
   "metadata": {
    "collapsed": false
   },
   "outputs": [],
   "source": [
    "subset(total, select=c(country.mean, M1.mean, M2.mean))"
   ]
  },
  {
   "cell_type": "code",
   "execution_count": null,
   "metadata": {
    "collapsed": true
   },
   "outputs": [],
   "source": []
  }
 ],
 "metadata": {
  "kernelspec": {
   "display_name": "R",
   "language": "R",
   "name": "ir"
  },
  "language_info": {
   "codemirror_mode": "r",
   "file_extension": ".r",
   "mimetype": "text/x-r-source",
   "name": "R",
   "pygments_lexer": "r",
   "version": "3.3.2"
  }
 },
 "nbformat": 4,
 "nbformat_minor": 2
}
