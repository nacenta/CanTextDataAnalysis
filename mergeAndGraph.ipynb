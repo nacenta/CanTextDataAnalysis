{
 "cells": [
  {
   "cell_type": "markdown",
   "metadata": {
    "collapsed": true
   },
   "source": [
    "# Merge And Graph\n",
    "This script loads all the measures tables generated, calculates the bootstraps and plots it\n"
   ]
  },
  {
   "cell_type": "markdown",
   "metadata": {},
   "source": [
    "### Imports + Global Setup"
   ]
  },
  {
   "cell_type": "code",
   "execution_count": 4,
   "metadata": {
    "collapsed": false
   },
   "outputs": [
    {
     "name": "stderr",
     "output_type": "stream",
     "text": [
      "C:\\Anaconda3\\lib\\site-packages\\IPython\\core\\interactiveshell.py:2885: FutureWarning: \n",
      "mpl_style had been deprecated and will be removed in a future version.\n",
      "Use `matplotlib.pyplot.style.use` instead.\n",
      "\n",
      "  exec(code_obj, self.user_global_ns, self.user_ns)\n"
     ]
    },
    {
     "data": {
      "text/plain": [
       "<matplotlib.figure.Figure at 0x1b685e45da0>"
      ]
     },
     "metadata": {},
     "output_type": "display_data"
    }
   ],
   "source": [
    "from __future__ import print_function, division\n",
    "\n",
    "import sys \n",
    "\n",
    "import numpy as np\n",
    "import pandas as pd\n",
    "import re\n",
    "import os\n",
    "import warnings\n",
    "import math\n",
    "\n",
    "from operator import itemgetter\n",
    "\n",
    "# import pyedf\n",
    "# import conf\n",
    "\n",
    "pd.options.display.mpl_style = 'default'\n",
    "\n",
    "plt.rcParams['figure.figsize'] = (16.0, 10.0)\n",
    "plt.set_cmap('gnuplot2')\n",
    "\n"
   ]
  },
  {
   "cell_type": "markdown",
   "metadata": {},
   "source": [
    "## Global Constants"
   ]
  },
  {
   "cell_type": "code",
   "execution_count": 5,
   "metadata": {
    "collapsed": true
   },
   "outputs": [],
   "source": [
    "# path = './DataDummy'\n",
    "#path = r'G:\\Miguel\\Research\\Research-Current\\CMOS\\Git Experiment Only\\Logs (For test analysis)'\n",
    "#path = r'G:\\Miguel\\Research\\Research-Current\\CMOS\\pilot data'\n",
    "path = \".\\processedData\"\n",
    "#participant_ids = [ 'None', 'Johanas' ]\n",
    "participant_ids = [  '15FM24',\n",
    "                     '21MDC20',\n",
    "                     '3MW2421',\n",
    "                     '22F',\n",
    "                     '14JG23',\n",
    "                     '1MQ2201',\n",
    "                     '2ML3603',\n",
    "                     '8FC02',\n",
    "                     '5MS3205',\n",
    "                     '9FH04',\n",
    "                     '1MW2207',\n",
    "                     '12FRH06',\n",
    "                     '6MDH09',\n",
    "                     '13MM08',\n",
    "                     '12JR11',\n",
    "                     '10F',\n",
    "                     '17MRW13',\n",
    "                     '12F',\n",
    "                     'MPS15',\n",
    "                     '2FQ2014',\n",
    "                     '5MS17',\n",
    "                     '2FS2116',\n",
    "                     '18MDM19',\n",
    "                     '18F']\n",
    "condition_ids = ['e', 'c', 's', 'n']\n",
    "#condition_ids = ['e', 'c']\n",
    "mediaObjectsPerDocument = 20 # this comes from how the documents were set up.\n",
    "mediaObjectsScotland = 4 # this comes from how the documents were set up."
   ]
  },
  {
   "cell_type": "markdown",
   "metadata": {
    "collapsed": true
   },
   "source": [
    "## Loading Calculated Data "
   ]
  },
  {
   "cell_type": "code",
   "execution_count": 6,
   "metadata": {
    "collapsed": false
   },
   "outputs": [],
   "source": [
    "pathEyeResults = path+'\\\\'+\"fixationAnalysisResults_pandas.pddf\"\n",
    "pathQuestionnaireResults = path+'\\\\'+'TLX_and_Questions_AnalysisResults_pandas.pddf'\n",
    "pathInteractionResults = path+'\\\\'+'interactionAnalysisResults_pandas.pddf'\n",
    "\n",
    "frameEye = pd.read_pickle(pathEyeResults)\n",
    "frameQuestionnaire = pd.read_pickle(pathQuestionnaireResults)\n",
    "frameInteraction = pd.read_pickle(pathInteractionResults)\n",
    "\n",
    "#frameEyeFiltered = frameEye\n",
    "\n",
    "allData = pd.concat([frameEye,frameQuestionnaire,frameInteraction], axis = 1)\n",
    "#allData = frameEye.append([frameQuestionnaire,frameInteraction])\n",
    "\n",
    "\n",
    "\n",
    "\n",
    "\n"
   ]
  },
  {
   "cell_type": "code",
   "execution_count": 7,
   "metadata": {
    "collapsed": true
   },
   "outputs": [],
   "source": [
    "# Change order of columns before saving\n",
    "M10,M11,M12,M12m,M12o,M12t,M13m,M13o,M13t,M3,M3m,M3o,M3t,M4,M4m,M4o,M4perSec,M4t,M5,M5m,M5o,M5t,M6,M6m,M6o,M6t,M7,M8,M9,V10t\n",
    "country,experimentNumber,orderNumber,training,type,userId,M1,M18,M19,M2,M20,M21,M22,M23,M24,M25,M26,M29,M2country,M30,M30country,\n",
    "country,experimentNumber,orderNumber,training,type,userId,M14,M15,M15m,M15o,M15t,M16,M16m,M16o,M16t,M17,country,experimentNumber\n",
    "orderNumber,training,type,userId\n",
    "\n",
    "\n",
    "\n",
    "allData.to_pickle(r'.\\processedData\\all_trials_processed_data_pandas.pddf')\n",
    "allData.to_csv(r'.\\processedData\\all_trials_processed_data.csv')\n",
    "allData.to_excel(r'.\\processedData\\all_trials_processed_data.xls')"
   ]
  },
  {
   "cell_type": "code",
   "execution_count": null,
   "metadata": {
    "collapsed": false
   },
   "outputs": [],
   "source": [
    "pd.set_option('display.max_columns', None)\n",
    "frameEye[:5]\n",
    "allData\n"
   ]
  },
  {
   "cell_type": "code",
   "execution_count": null,
   "metadata": {
    "collapsed": false
   },
   "outputs": [],
   "source": [
    "frameQuestionnaire[:5]"
   ]
  },
  {
   "cell_type": "code",
   "execution_count": null,
   "metadata": {
    "collapsed": false
   },
   "outputs": [],
   "source": [
    "frameInteraction[:5]"
   ]
  },
  {
   "cell_type": "code",
   "execution_count": null,
   "metadata": {
    "collapsed": true
   },
   "outputs": [],
   "source": []
  }
 ],
 "metadata": {
  "anaconda-cloud": {},
  "kernelspec": {
   "display_name": "Python [Root]",
   "language": "python",
   "name": "Python [Root]"
  },
  "language_info": {
   "codemirror_mode": {
    "name": "ipython",
    "version": 3
   },
   "file_extension": ".py",
   "mimetype": "text/x-python",
   "name": "python",
   "nbconvert_exporter": "python",
   "pygments_lexer": "ipython3",
   "version": "3.5.2"
  }
 },
 "nbformat": 4,
 "nbformat_minor": 0
}
